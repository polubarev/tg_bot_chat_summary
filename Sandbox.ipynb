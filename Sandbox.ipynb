{
 "cells": [
  {
   "cell_type": "markdown",
   "id": "8e1b5742",
   "metadata": {
    "toc": true
   },
   "source": [
    "<h1>Table of Contents<span class=\"tocSkip\"></span></h1>\n",
    "<div class=\"toc\"><ul class=\"toc-item\"></ul></div>"
   ]
  },
  {
   "cell_type": "code",
   "execution_count": 15,
   "id": "bbf825af-c2c7-442c-b814-3121e37eaa2c",
   "metadata": {},
   "outputs": [],
   "source": [
    "from openai import OpenAI\n",
    "from dotenv import load_dotenv\n",
    "import os"
   ]
  },
  {
   "cell_type": "code",
   "execution_count": 16,
   "id": "69337502-a2f4-4275-9be7-e6a266711335",
   "metadata": {},
   "outputs": [
    {
     "data": {
      "text/plain": [
       "True"
      ]
     },
     "execution_count": 16,
     "metadata": {},
     "output_type": "execute_result"
    }
   ],
   "source": [
    "load_dotenv()"
   ]
  },
  {
   "cell_type": "code",
   "execution_count": 17,
   "id": "bc5797e0",
   "metadata": {
    "ExecuteTime": {
     "end_time": "2024-05-18T17:28:22.565088Z",
     "start_time": "2024-05-18T17:28:22.558063Z"
    }
   },
   "outputs": [],
   "source": [
    "OPENAI_API_KEY = os.getenv(\"OPENAI_API_KEY_2\")\n",
    "OPENAI_ORG = os.getenv(\"OPENAI_ORG\")"
   ]
  },
  {
   "cell_type": "code",
   "execution_count": 18,
   "id": "0c5dbbc2",
   "metadata": {
    "ExecuteTime": {
     "end_time": "2024-05-18T17:28:23.254654Z",
     "start_time": "2024-05-18T17:28:22.708628Z"
    }
   },
   "outputs": [],
   "source": [
    "client = OpenAI(api_key=OPENAI_API_KEY, organization=OPENAI_ORG)"
   ]
  },
  {
   "cell_type": "code",
   "execution_count": 19,
   "id": "fba07847",
   "metadata": {},
   "outputs": [
    {
     "name": "stdout",
     "output_type": "stream",
     "text": [
      "ChatCompletionMessage(content=\"In the depths of code, a concept lies,\\nWhere functions call themselves, a grand surprise.\\nRecursion they call it, a loop divine,\\nA journey through layers, a program's spine.\\n\\nLike a Russian doll, nesting deep,\\nEach call returns, a promise to keep.\\nBreaking problems into parts, so neat,\\nRecursion solves, a wondrous feat.\\n\\nA function's magic, echoes clear,\\nRepeating its steps, without fear.\\nThrough base cases, it finds its way,\\nUnraveling mysteries, come what may.\\n\\nInfinite loops, a caution to heed,\\nUntamed recursion, a wild steed.\\nBut wielded with care, its power untold,\\nA tool of elegance, in the programmer's hold.\\n\\nSo dance with recursion, in the code's embrace,\\nA poetic loop, a harmonious grace.\\nTraversing paths, both near and far,\\nA symphony of calls, a programmer's star.\", role='assistant', function_call=None, tool_calls=None)\n"
     ]
    }
   ],
   "source": [
    "completion = client.chat.completions.create(\n",
    "  model=\"gpt-3.5-turbo\",\n",
    "  messages=[\n",
    "    {\"role\": \"system\", \"content\": \"You are a poetic assistant, skilled in explaining complex programming concepts with creative flair.\"},\n",
    "    {\"role\": \"user\", \"content\": \"Compose a poem that explains the concept of recursion in programming.\"}\n",
    "  ]\n",
    ")\n",
    "\n",
    "print(completion.choices[0].message)"
   ]
  },
  {
   "cell_type": "code",
   "execution_count": null,
   "id": "105dfda1-5cfe-497d-8dae-32ec140e48b0",
   "metadata": {},
   "outputs": [],
   "source": []
  }
 ],
 "metadata": {
  "kernelspec": {
   "display_name": "Python 3 (ipykernel)",
   "language": "python",
   "name": "python3"
  },
  "language_info": {
   "codemirror_mode": {
    "name": "ipython",
    "version": 3
   },
   "file_extension": ".py",
   "mimetype": "text/x-python",
   "name": "python",
   "nbconvert_exporter": "python",
   "pygments_lexer": "ipython3",
   "version": "3.9.12"
  },
  "toc": {
   "base_numbering": 1,
   "nav_menu": {},
   "number_sections": true,
   "sideBar": true,
   "skip_h1_title": false,
   "title_cell": "Table of Contents",
   "title_sidebar": "Contents",
   "toc_cell": true,
   "toc_position": {
    "height": "calc(100% - 180px)",
    "left": "10px",
    "top": "150px",
    "width": "274.444px"
   },
   "toc_section_display": true,
   "toc_window_display": true
  }
 },
 "nbformat": 4,
 "nbformat_minor": 5
}
